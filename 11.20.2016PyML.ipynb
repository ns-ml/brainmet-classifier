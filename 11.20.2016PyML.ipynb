{
 "cells": [
  {
   "cell_type": "code",
   "execution_count": 58,
   "metadata": {
    "collapsed": false
   },
   "outputs": [],
   "source": [
    "import pyprind\n",
    "import pandas as pd\n",
    "import os\n",
    "import numpy as np"
   ]
  },
  {
   "cell_type": "code",
   "execution_count": 59,
   "metadata": {
    "collapsed": false
   },
   "outputs": [],
   "source": [
    "np.random.seed(0)"
   ]
  },
  {
   "cell_type": "code",
   "execution_count": 60,
   "metadata": {
    "collapsed": false,
    "scrolled": true
   },
   "outputs": [
    {
     "data": {
      "text/html": [
       "<div>\n",
       "<table border=\"1\" class=\"dataframe\">\n",
       "  <thead>\n",
       "    <tr style=\"text-align: right;\">\n",
       "      <th></th>\n",
       "      <th>Group_x</th>\n",
       "      <th>Report</th>\n",
       "    </tr>\n",
       "  </thead>\n",
       "  <tbody>\n",
       "    <tr>\n",
       "      <th>1805</th>\n",
       "      <td>2</td>\n",
       "      <td>Type:  MRI BRAIN W/WO CONTRAST\\nDate/Time:  ...</td>\n",
       "    </tr>\n",
       "    <tr>\n",
       "      <th>1806</th>\n",
       "      <td>3</td>\n",
       "      <td>PROCEDURE: MR Brain WWO Contrast  HISTORY: 48-...</td>\n",
       "    </tr>\n",
       "  </tbody>\n",
       "</table>\n",
       "</div>"
      ],
      "text/plain": [
       "      Group_x                                             Report\n",
       "1805        2    Type:  MRI BRAIN W/WO CONTRAST\\nDate/Time:  ...\n",
       "1806        3  PROCEDURE: MR Brain WWO Contrast  HISTORY: 48-..."
      ]
     },
     "execution_count": 60,
     "metadata": {},
     "output_type": "execute_result"
    }
   ],
   "source": [
    "df = pd.read_excel('/Users/ramo/Dropbox/Stats/multiple-mets/data/labeled/final_dataset.xlsx')\n",
    "df.head(2)"
   ]
  },
  {
   "cell_type": "code",
   "execution_count": 61,
   "metadata": {
    "collapsed": false
   },
   "outputs": [],
   "source": [
    "df.rename(columns={'Group_x': 'Group'}, inplace=True)"
   ]
  },
  {
   "cell_type": "code",
   "execution_count": 62,
   "metadata": {
    "collapsed": false
   },
   "outputs": [],
   "source": [
    "# Drop category 2 (not sure), and 3 (not met)\n",
    "df = df[(df['Group'] == 1) | (df['Group'] == 0)]"
   ]
  },
  {
   "cell_type": "code",
   "execution_count": 99,
   "metadata": {
    "collapsed": false
   },
   "outputs": [
    {
     "name": "stdout",
     "output_type": "stream",
     "text": [
      "      Group                                       clean_report\n",
      "1807      0  procedure mr brain without and with contrast c...\n",
      "1808      1  type mri brain w wo contrastdate time  14:20ex...\n",
      "1809      1  type mr brain w and w ocont date time  19:05ex...\n",
      "1810      1  procedure mr brain wwo contrast history  75 ye...\n",
      "1811      0  type fmri brain by techdate time  08:32exam co...\n",
      "1479\n"
     ]
    }
   ],
   "source": [
    "print df.head()\n",
    "print len(df)"
   ]
  },
  {
   "cell_type": "code",
   "execution_count": 64,
   "metadata": {
    "collapsed": false
   },
   "outputs": [
    {
     "data": {
      "text/plain": [
       "u'PROCEDURE: MR Brain W Contrast   HISTORY:  Mass within the left superior frontal gyrus.  Also left temporoparietal meningioma.  Preoperative exam.  TECHNIQUE: Limited axial 3D MP-RAGE postcontrast with coronal and sagittal reformatted images images of the brain, for preoperative localization.  COMPARISON: MRI brain with and without contrast on June 6, 2009.  FINDINGS: As recently noted, there is a heterogeneously enhancing mass centered in the left superior frontal gyrus.  The mass measures 1.3-cm transverse by 1.6-cm AP by 1.4 cm CC (series 4 image 148 chemistry 100 image 39), not significant changed from recent measurements of 1.4 x 1.6 x 1.4 cm, respectively.  Inferior to the well-defined enhancing lesion, there is again noted to be a less well-defined area of increased signal, which demonstrated intrinsic T1 hyperintensity on the precontrast images of the June 6, 2009 exam.  The previously questioned superimposed enhancement, which is now difficult to assess given the lack of precontrast images.  This extends caudally by approximately 1.5 cm beyond the caudal aspect of the mass as seen on series 100 image 39.  There is surrounding T1 hypointensity which extends to the level of the left lateral ventricle, as well as laterally to the precentral gyrus.  There is mild cortical thickening and T1 hypointensity involving the cortex along the medial aspect of the enhancing mass, corresponding to previously noted FLAIR hyperintensity.  There is associated sulcal effacement along the paramedian left frontal lobe, as well as mass effect upon subjacent left lateral ventricle.   Other scattered areas of T1 hypointensity are seen in the periventricular and subcortical white matter, most consistent with minimal chronic small vessel ischemic changes.  No other definite areas of intra-axial pathologic enhancement are seen, although axial images are degraded by motion artifact.    There is a solidly enhancing extra-axial dural based mass in the left temporoparietal region, measuring 1.4 cm transverse by 1.6-cm AP by 1.6 cm CC (series 4 image 63, series 100 image 47).  There is no significant adjacent brain parenchymal edema with only mild localized mass effect.    The basal cisterns are patent.  There is no midline shift.  Note is again made of a left greater than right parasagittal arachnoid cyst crossing the midline near the vertex, presumably via a defect in the interhemispheric falx, or probably representing two adjacent arachnoid cysts.  The craniocervical junction is intact.   IMPRESSION:   1.  Stable appearance of enhancing lesion centered in the left superior frontal gyrus without significant change since the prior exam.  Stable appearance of additional increased T1 signal extending caudally from the caudal aspect of the mass, with previously questioned superimposed enhancement.  There is surrounding vasogenic edema.  Differential diagnosis again includes a solitary hemorrhagic metastasis or primary CNS tumor.  2.  Stable appearance of small left  temporoparietal extra-axial dural-based mass most consistent with a meningioma.'"
      ]
     },
     "execution_count": 64,
     "metadata": {},
     "output_type": "execute_result"
    }
   ],
   "source": [
    "df['Report'][1]"
   ]
  },
  {
   "cell_type": "markdown",
   "metadata": {},
   "source": [
    "## Cleaning text data"
   ]
  },
  {
   "cell_type": "code",
   "execution_count": 65,
   "metadata": {
    "collapsed": true
   },
   "outputs": [],
   "source": [
    "import re"
   ]
  },
  {
   "cell_type": "code",
   "execution_count": 66,
   "metadata": {
    "collapsed": true
   },
   "outputs": [],
   "source": [
    "def preprocessor(text):\n",
    "    # Remove newlines\n",
    "    text = text.replace(r'\\n', '')\n",
    "    \n",
    "    # Remove date\n",
    "    date_pattern = r'[0-9]{1,2}[-/][0-9]{1,2}[-/][0-9]{2,}'\n",
    "    text = re.sub(date_pattern, '', text.lower())\n",
    "    \n",
    "    # Remove whitespace\n",
    "    text = ' '.join(text.split())\n",
    "    \n",
    "    # Remove punctution, keep decimal points\n",
    "    text = re.sub(r'[\\W]+(?!\\d)', ' ', text)\n",
    "    \n",
    "    # Remove the signature at the end of the report              \n",
    "    \n",
    "    if text.find(' i the teaching physician') != -1:\n",
    "        body_pattern = re.compile(r'(.*) (?=i the teaching physician)')\n",
    "        matched_text = body_pattern.search(text).group(1)\n",
    "        \n",
    "    elif text.find(' end of impression') != -1:\n",
    "        body_pattern = re.compile(r'(.*) (?=end of impression)')\n",
    "        matched_text = body_pattern.search(text).group(1)\n",
    "    \n",
    "    elif text.find(' radiologists signatures') != -1:\n",
    "        body_pattern = re.compile(r'(.*) (?=radiologists signatures)')\n",
    "        \n",
    "        matched_text = body_pattern.search(text).group(1)\n",
    "    \n",
    "    else:\n",
    "        matched_text = text\n",
    "        \n",
    "    return matched_text"
   ]
  },
  {
   "cell_type": "code",
   "execution_count": 67,
   "metadata": {
    "collapsed": true
   },
   "outputs": [],
   "source": [
    "# TODO: Add named entity recognition to reduce report noise"
   ]
  },
  {
   "cell_type": "code",
   "execution_count": 68,
   "metadata": {
    "collapsed": false
   },
   "outputs": [],
   "source": [
    "df['clean_report'] = df['Report'].apply(preprocessor)"
   ]
  },
  {
   "cell_type": "code",
   "execution_count": 69,
   "metadata": {
    "collapsed": true
   },
   "outputs": [],
   "source": [
    "df.to_csv('train_dataOA11.19.16.csv', columns=['clean_report', 'Group'])"
   ]
  },
  {
   "cell_type": "code",
   "execution_count": 70,
   "metadata": {
    "collapsed": true
   },
   "outputs": [],
   "source": [
    "del df['Report']"
   ]
  },
  {
   "cell_type": "code",
   "execution_count": 71,
   "metadata": {
    "collapsed": false
   },
   "outputs": [
    {
     "data": {
      "text/html": [
       "<div>\n",
       "<table border=\"1\" class=\"dataframe\">\n",
       "  <thead>\n",
       "    <tr style=\"text-align: right;\">\n",
       "      <th></th>\n",
       "      <th>Group</th>\n",
       "      <th>clean_report</th>\n",
       "    </tr>\n",
       "  </thead>\n",
       "  <tbody>\n",
       "    <tr>\n",
       "      <th>1807</th>\n",
       "      <td>0</td>\n",
       "      <td>procedure mr brain without and with contrast c...</td>\n",
       "    </tr>\n",
       "    <tr>\n",
       "      <th>1808</th>\n",
       "      <td>1</td>\n",
       "      <td>type mri brain w wo contrastdate time  14:20ex...</td>\n",
       "    </tr>\n",
       "  </tbody>\n",
       "</table>\n",
       "</div>"
      ],
      "text/plain": [
       "      Group                                       clean_report\n",
       "1807      0  procedure mr brain without and with contrast c...\n",
       "1808      1  type mri brain w wo contrastdate time  14:20ex..."
      ]
     },
     "execution_count": 71,
     "metadata": {},
     "output_type": "execute_result"
    }
   ],
   "source": [
    "df.head(2)"
   ]
  },
  {
   "cell_type": "markdown",
   "metadata": {},
   "source": [
    "## Tokinizing, stemming, stop words"
   ]
  },
  {
   "cell_type": "code",
   "execution_count": 72,
   "metadata": {
    "collapsed": true
   },
   "outputs": [],
   "source": [
    "def tokenizer(text):\n",
    "    return text.split()"
   ]
  },
  {
   "cell_type": "code",
   "execution_count": 73,
   "metadata": {
    "collapsed": false
   },
   "outputs": [],
   "source": [
    "from nltk.stem.porter import PorterStemmer"
   ]
  },
  {
   "cell_type": "code",
   "execution_count": 74,
   "metadata": {
    "collapsed": false
   },
   "outputs": [],
   "source": [
    "porter = PorterStemmer()"
   ]
  },
  {
   "cell_type": "code",
   "execution_count": 75,
   "metadata": {
    "collapsed": true
   },
   "outputs": [],
   "source": [
    "def tokenizer_porter(text):\n",
    "    return [porter.stem(word) for word in text.split()]"
   ]
  },
  {
   "cell_type": "code",
   "execution_count": 76,
   "metadata": {
    "collapsed": true
   },
   "outputs": [],
   "source": [
    "# TODO: porter2 and lancaster stemming"
   ]
  },
  {
   "cell_type": "code",
   "execution_count": 77,
   "metadata": {
    "collapsed": true
   },
   "outputs": [],
   "source": [
    "from nltk.corpus import stopwords"
   ]
  },
  {
   "cell_type": "code",
   "execution_count": 78,
   "metadata": {
    "collapsed": false
   },
   "outputs": [],
   "source": [
    "stop = stopwords.words('english')"
   ]
  },
  {
   "cell_type": "code",
   "execution_count": 79,
   "metadata": {
    "collapsed": false
   },
   "outputs": [],
   "source": [
    "stop_modified = [w for w in stop if w not in ['no', 'not']]"
   ]
  },
  {
   "cell_type": "markdown",
   "metadata": {},
   "source": [
    "## Training a logistic regression model"
   ]
  },
  {
   "cell_type": "code",
   "execution_count": 80,
   "metadata": {
    "collapsed": false
   },
   "outputs": [],
   "source": [
    "from sklearn.feature_extraction.text import TfidfVectorizer\n",
    "from sklearn.pipeline import Pipeline\n",
    "from sklearn.linear_model import LogisticRegression\n",
    "from sklearn.grid_search import GridSearchCV"
   ]
  },
  {
   "cell_type": "code",
   "execution_count": 81,
   "metadata": {
    "collapsed": false
   },
   "outputs": [],
   "source": [
    "train_df = df.sample(frac=0.8, random_state = 0)\n",
    "test_df = df.drop(train_df.index)"
   ]
  },
  {
   "cell_type": "code",
   "execution_count": 82,
   "metadata": {
    "collapsed": false
   },
   "outputs": [],
   "source": [
    "x_train = train_df.loc[:, 'clean_report'].values\n",
    "y_train = train_df.loc[:, 'Group'].values\n",
    "x_test = test_df.loc[:, 'clean_report'].values\n",
    "y_test = test_df.loc[:, 'Group'].values"
   ]
  },
  {
   "cell_type": "code",
   "execution_count": 83,
   "metadata": {
    "collapsed": false
   },
   "outputs": [],
   "source": [
    "tfidf = TfidfVectorizer(strip_accents=None,\n",
    "                       lowercase=False,\n",
    "                       preprocessor=None)"
   ]
  },
  {
   "cell_type": "code",
   "execution_count": 84,
   "metadata": {
    "collapsed": true
   },
   "outputs": [],
   "source": [
    "param_grid = [{'vect__ngram_range': [(1,1), (1,2)],\n",
    "              'vect__stop_words': [stop, stop_modified, None],\n",
    "               'vect__tokenizer': [tokenizer, tokenizer_porter],\n",
    "               'clf__penalty': ['l1', 'l2'],\n",
    "               'clf__C': [1.0, 10.0, 100.0]},\n",
    "             {'vect__ngram_range': [(1,1), (1,2)],\n",
    "              'vect__stop_words': [stop, stop_modified, None],\n",
    "               'vect__tokenizer': [tokenizer, tokenizer_porter],\n",
    "              'vect__use_idf': [False],\n",
    "              'vect__norm':[None],\n",
    "               'clf__penalty': ['l1', 'l2'],\n",
    "               'clf__C': [1.0, 10.0, 100.0]}\n",
    "             ]"
   ]
  },
  {
   "cell_type": "code",
   "execution_count": 85,
   "metadata": {
    "collapsed": false
   },
   "outputs": [],
   "source": [
    "lr_tfidf = Pipeline([('vect', tfidf),\n",
    "                    ('clf', LogisticRegression(random_state=0))])"
   ]
  },
  {
   "cell_type": "code",
   "execution_count": 86,
   "metadata": {
    "collapsed": true
   },
   "outputs": [],
   "source": [
    "gs_lr_tfidf = GridSearchCV(lr_tfidf, param_grid,\n",
    "                          scoring='accuracy',\n",
    "                          cv=5, verbose=1,\n",
    "                          n_jobs=-1)"
   ]
  },
  {
   "cell_type": "code",
   "execution_count": 87,
   "metadata": {
    "collapsed": false,
    "scrolled": true
   },
   "outputs": [
    {
     "name": "stdout",
     "output_type": "stream",
     "text": [
      "Fitting 5 folds for each of 144 candidates, totalling 720 fits\n"
     ]
    },
    {
     "name": "stderr",
     "output_type": "stream",
     "text": [
      "[Parallel(n_jobs=-1)]: Done  42 tasks      | elapsed:  1.4min\n",
      "[Parallel(n_jobs=-1)]: Done 192 tasks      | elapsed:  7.4min\n",
      "[Parallel(n_jobs=-1)]: Done 442 tasks      | elapsed: 17.7min\n",
      "[Parallel(n_jobs=-1)]: Done 720 out of 720 | elapsed: 28.9min finished\n"
     ]
    },
    {
     "data": {
      "text/plain": [
       "GridSearchCV(cv=5, error_score='raise',\n",
       "       estimator=Pipeline(steps=[('vect', TfidfVectorizer(analyzer=u'word', binary=False, decode_error=u'strict',\n",
       "        dtype=<type 'numpy.int64'>, encoding=u'utf-8', input=u'content',\n",
       "        lowercase=False, max_df=1.0, max_features=None, min_df=1,\n",
       "        ngram_range=(1, 1), norm=u'l2', preprocessor=None, smooth_idf=Tru...nalty='l2', random_state=0, solver='liblinear', tol=0.0001,\n",
       "          verbose=0, warm_start=False))]),\n",
       "       fit_params={}, iid=True, n_jobs=-1,\n",
       "       param_grid=[{'vect__ngram_range': [(1, 1), (1, 2)], 'vect__tokenizer': [<function tokenizer at 0x10f6af668>, <function tokenizer_porter at 0x10f6afc80>], 'clf__penalty': ['l1', 'l2'], 'clf__C': [1.0, 10.0, 100.0], 'vect__stop_words': [[u'i', u'me', u'my', u'myself', u'we', u'our', u'ours', u'ourselv...x10f6afc80>], 'vect__use_idf': [False], 'clf__C': [1.0, 10.0, 100.0], 'clf__penalty': ['l1', 'l2']}],\n",
       "       pre_dispatch='2*n_jobs', refit=True, scoring='accuracy', verbose=1)"
      ]
     },
     "execution_count": 87,
     "metadata": {},
     "output_type": "execute_result"
    }
   ],
   "source": [
    "gs_lr_tfidf.fit(x_train, y_train)"
   ]
  },
  {
   "cell_type": "code",
   "execution_count": 88,
   "metadata": {
    "collapsed": false
   },
   "outputs": [
    {
     "name": "stdout",
     "output_type": "stream",
     "text": [
      "Best parameter set: {'vect__ngram_range': (1, 2), 'vect__tokenizer': <function tokenizer at 0x10f6af668>, 'clf__penalty': 'l1', 'clf__C': 10.0, 'vect__stop_words': None} \n"
     ]
    }
   ],
   "source": [
    "print('Best parameter set: %s ' % gs_lr_tfidf.best_params_)"
   ]
  },
  {
   "cell_type": "code",
   "execution_count": 89,
   "metadata": {
    "collapsed": false
   },
   "outputs": [
    {
     "name": "stdout",
     "output_type": "stream",
     "text": [
      "CV Accuracy: 0.846\n"
     ]
    }
   ],
   "source": [
    "print('CV Accuracy: %.3f'% gs_lr_tfidf.best_score_)"
   ]
  },
  {
   "cell_type": "code",
   "execution_count": 90,
   "metadata": {
    "collapsed": true
   },
   "outputs": [],
   "source": [
    "clf = gs_lr_tfidf.best_estimator_"
   ]
  },
  {
   "cell_type": "code",
   "execution_count": 91,
   "metadata": {
    "collapsed": false
   },
   "outputs": [
    {
     "name": "stdout",
     "output_type": "stream",
     "text": [
      "Test Accuracy: 0.828\n"
     ]
    }
   ],
   "source": [
    "print('Test Accuracy: %.3f' % clf.score(x_test, y_test))"
   ]
  },
  {
   "cell_type": "markdown",
   "metadata": {},
   "source": [
    "### Model Persistence"
   ]
  },
  {
   "cell_type": "code",
   "execution_count": 92,
   "metadata": {
    "collapsed": true
   },
   "outputs": [],
   "source": [
    "from sklearn.externals import joblib"
   ]
  },
  {
   "cell_type": "code",
   "execution_count": 93,
   "metadata": {
    "collapsed": false
   },
   "outputs": [
    {
     "data": {
      "text/plain": [
       "['clf/logregression.pkl',\n",
       " 'clf/logregression.pkl_01.npy',\n",
       " 'clf/logregression.pkl_02.npy',\n",
       " 'clf/logregression.pkl_03.npy',\n",
       " 'clf/logregression.pkl_04.npy',\n",
       " 'clf/logregression.pkl_05.npy',\n",
       " 'clf/logregression.pkl_06.npy']"
      ]
     },
     "execution_count": 93,
     "metadata": {},
     "output_type": "execute_result"
    }
   ],
   "source": [
    "joblib.dump(clf, 'clf/logregression.pkl')"
   ]
  },
  {
   "cell_type": "code",
   "execution_count": 94,
   "metadata": {
    "collapsed": false
   },
   "outputs": [],
   "source": [
    "clf = joblib.load('clf/logregression.pkl')"
   ]
  },
  {
   "cell_type": "markdown",
   "metadata": {},
   "source": [
    "### Classification Benchmarks"
   ]
  },
  {
   "cell_type": "code",
   "execution_count": 95,
   "metadata": {
    "collapsed": true
   },
   "outputs": [],
   "source": [
    "from benchmark_binary_classifier import plot_confusion_matrix, benchmark\n",
    "%matplotlib inline"
   ]
  },
  {
   "cell_type": "code",
   "execution_count": 96,
   "metadata": {
    "collapsed": false
   },
   "outputs": [
    {
     "name": "stdout",
     "output_type": "stream",
     "text": [
      "Predicting the outcomes of the testing set\n",
      "Done in 0.355060s\n",
      "Classification report on test set for classifier:\n",
      "Pipeline(steps=[('vect', TfidfVectorizer(analyzer=u'word', binary=False, decode_error=u'strict',\n",
      "        dtype=<type 'numpy.int64'>, encoding=u'utf-8', input=u'content',\n",
      "        lowercase=False, max_df=1.0, max_features=None, min_df=1,\n",
      "        ngram_range=(1, 2), norm=u'l2', preprocessor=None, smooth_idf=Tru...nalty='l1', random_state=0, solver='liblinear', tol=0.0001,\n",
      "          verbose=0, warm_start=False))])\n",
      "()\n",
      "             precision    recall  f1-score   support\n",
      "\n",
      "          0       0.76      0.77      0.76       108\n",
      "          1       0.87      0.86      0.86       188\n",
      "\n",
      "avg / total       0.83      0.83      0.83       296\n",
      "\n",
      "Confusion Matrix:\n",
      "[[ 83  25]\n",
      " [ 26 162]]\n"
     ]
    }
   ],
   "source": [
    "benchmark(clf, x_test, y_test)"
   ]
  },
  {
   "cell_type": "code",
   "execution_count": 97,
   "metadata": {
    "collapsed": false
   },
   "outputs": [
    {
     "data": {
      "image/png": "[encoded data removed]",
      "text/plain": [
       "<matplotlib.figure.Figure at 0x10f69bfd0>"
      ]
     },
     "metadata": {},
     "output_type": "display_data"
    }
   ],
   "source": [
    "plot_confusion_matrix(clf, x_test, y_test)"
   ]
  },
  {
   "cell_type": "code",
   "execution_count": null,
   "metadata": {
    "collapsed": true
   },
   "outputs": [],
   "source": [
    "\n",
    "\n",
    "\n",
    "\n",
    "\n",
    "\n",
    "\n",
    "\n",
    "\n",
    "\n",
    "\n",
    "\n",
    "\n"
   ]
  },
  {
   "cell_type": "markdown",
   "metadata": {},
   "source": [
    "## Train automatic model/hyperparameters selection"
   ]
  },
  {
   "cell_type": "code",
   "execution_count": null,
   "metadata": {
    "collapsed": true
   },
   "outputs": [],
   "source": [
    "#Models\n",
    "from sklearn.linear_model import Perceptron, SGDClassifier\n",
    "from sklearn.naive_bayes import MultinomialNB\n",
    "from sklearn.svm import LinearSVC\n",
    "from sklearn import linear_model, svm, tree\n",
    "from sklearn.ensemble import RandomForestClassifier\n",
    "from sklearn.naive_bayes import BernoulliNB\n",
    "\n",
    "from numpy.random import RandomState"
   ]
  },
  {
   "cell_type": "code",
   "execution_count": null,
   "metadata": {
    "collapsed": true
   },
   "outputs": [],
   "source": [
    "from sklearn.feature_extraction.text import CountVectorizer"
   ]
  },
  {
   "cell_type": "code",
   "execution_count": null,
   "metadata": {
    "collapsed": true
   },
   "outputs": [],
   "source": [
    "import sys\n",
    "def concatenate(d1,d2):\n",
    "    d = d1.copy()\n",
    "    d.update(d2)\n",
    "    return d\n",
    "seed = 0"
   ]
  },
  {
   "cell_type": "code",
   "execution_count": null,
   "metadata": {
    "collapsed": true
   },
   "outputs": [],
   "source": [
    "sys.path.append('/Users/oarnaout/Dropbox/Stats/multiple-mets/')\n",
    "import sklearnextensions as sklx\n",
    "import printers"
   ]
  },
  {
   "cell_type": "code",
   "execution_count": null,
   "metadata": {
    "collapsed": false
   },
   "outputs": [],
   "source": [
    "# classifiers and parameters to consider\n",
    "feature_parameters  = {\n",
    "                'vect__binary':(False, True),\n",
    "               'vect__ngram_range': ((1,1),(1,2),(1,3)),\n",
    "               'vect__analyzer' : ('word', 'char_wb')}\n",
    "\n",
    "nb_feature_parameters  = {'vect__ngram_range': ((1,1),(1,2),(1,3)),\n",
    "               'vect__analyzer' : ('word', 'char_wb')}\n",
    "use_spare_array = True\n",
    "use_binary_features = True\n",
    "classifiers = ({\n",
    "    'logistic_regression':(linear_model.LogisticRegression(),\n",
    "                           use_spare_array,\n",
    "                           not use_binary_features,\n",
    "                           concatenate(feature_parameters, {'clf__C': [1/x for x in [0.01, 0.1, 0.3, 1.0, 3.0, 10.0]]})),\n",
    "    'svm_linear':(svm.LinearSVC(tol=1e-6),\n",
    "                  use_spare_array,\n",
    "                  not use_binary_features,\n",
    "                  concatenate(feature_parameters, {'clf__C': [1/x for x in [0.01, 0.1, 0.3, 1.0, 3.0, 10.0]]})),\n",
    "    'svm_gaussian':(svm.SVC(tol=1e-6, kernel='rbf'),\n",
    "                    use_spare_array,\n",
    "                    not use_binary_features,\n",
    "                    concatenate(feature_parameters, {'clf__gamma': [.01, .03, 0.1],\n",
    "                                             'clf__C': [1/x for x in [0.01, 0.1, 0.3, 1.0, 3.0, 10.0]]})),\n",
    "    'decision_tree':(tree.DecisionTreeClassifier(criterion='entropy', random_state=RandomState(seed)),\n",
    "                     not use_spare_array,\n",
    "                     not use_binary_features,\n",
    "                     concatenate(feature_parameters,{'clf__max_depth': [2, 3, 4, 5, 6, 7 , 8, 9, 10, 15, 20]})),\n",
    "    'random_forest':(RandomForestClassifier(criterion='entropy', random_state=RandomState(seed)),\n",
    "                     not use_spare_array,\n",
    "                     not use_binary_features,\n",
    "                     concatenate(feature_parameters,{'clf__max_depth': [2, 3, 4, 5],\n",
    "                                                     'clf__n_estimators': [5, 25, 50, 100, 150, 200]})),\n",
    "    'naive_bayes':(BernoulliNB(alpha=1.0, binarize=None, fit_prior=True, class_prior=None),\n",
    "                   use_spare_array,\n",
    "                   use_binary_features,\n",
    "                   {'vect__ngram_range':((1,1),(1,2),(1,3)),\n",
    "                    'vect__analyzer':('word', 'char_wb')})\n",
    "})"
   ]
  },
  {
   "cell_type": "code",
   "execution_count": null,
   "metadata": {
    "collapsed": true
   },
   "outputs": [],
   "source": [
    "out_file = 'text.txt'"
   ]
  },
  {
   "cell_type": "code",
   "execution_count": null,
   "metadata": {
    "collapsed": false
   },
   "outputs": [],
   "source": [
    "best_accuracy = 0\n",
    "for key, value in classifiers.items():\n",
    "    clf = value[0] #classifier\n",
    "    usa = value[1] #use sparse array\n",
    "    ubf = value[2] #use binary (for NB)\n",
    "    parameters = value[3]\n",
    "    vectorizer = CountVectorizer(input='content', decode_error='ignore', preprocessor=None, binary=ubf)\n",
    "    pipeline = (Pipeline(steps=[('vect', vectorizer),('clf',clf)]) if usa\n",
    "                    else Pipeline(steps=[('vect', vectorizer),('sa',sklx.SparseToArray()),('clf',clf)]))\n",
    "    gs = sklx.grid_analysis(pipeline, parameters, x_train, y_train)\n",
    "    printers.print_grid_search_results(gs,key,out_file, x_test, y_test)\n",
    "    if gs.best_score_>best_accuracy:\n",
    "        final_clf = gs.best_estimator_\n",
    "        best_accuracy = final_clf.score(x_test, y_test)"
   ]
  },
  {
   "cell_type": "code",
   "execution_count": null,
   "metadata": {
    "collapsed": false
   },
   "outputs": [],
   "source": [
    "best_accuracy"
   ]
  },
  {
   "cell_type": "code",
   "execution_count": null,
   "metadata": {
    "collapsed": true
   },
   "outputs": [],
   "source": [
    "# TODO: add model persistence to prevent re-training"
   ]
  },
  {
   "cell_type": "markdown",
   "metadata": {},
   "source": [
    "# Web App"
   ]
  },
  {
   "cell_type": "markdown",
   "metadata": {},
   "source": [
    "### Out of core learning (for partial fit hashing vect)"
   ]
  },
  {
   "cell_type": "code",
   "execution_count": null,
   "metadata": {
    "collapsed": true
   },
   "outputs": [],
   "source": [
    "import numpy as np\n",
    "import re\n",
    "from nltk.stem.porter import PorterStemmer"
   ]
  },
  {
   "cell_type": "code",
   "execution_count": null,
   "metadata": {
    "collapsed": true
   },
   "outputs": [],
   "source": [
    "def tokenizer_porter(text):\n",
    "    text = re.sub('[\\W]+', ' ', text.lower())\n",
    "    tokenized = [porter.stem(word) for word in text]\n",
    "    return tokenized"
   ]
  },
  {
   "cell_type": "code",
   "execution_count": null,
   "metadata": {
    "collapsed": true
   },
   "outputs": [],
   "source": [
    "def stream_docs(path):\n",
    "    with open('train_dataOA7.19.16.csv', 'r') as csv:\n",
    "        next(csv)\n",
    "        for line in csv:\n",
    "            text, label = line[2:-3], int(line[-2])\n",
    "            yield text, label"
   ]
  },
  {
   "cell_type": "code",
   "execution_count": null,
   "metadata": {
    "collapsed": true
   },
   "outputs": [],
   "source": [
    "def get_minibatch(doc_stream, size):\n",
    "    docs, y = [], []\n",
    "    try:\n",
    "        for _ in range(size):\n",
    "            text, label = next(doc_stream)\n",
    "            docs.append(text)\n",
    "            y.append(label)\n",
    "    except StopIteration:\n",
    "        return None, None\n",
    "    return docs, y"
   ]
  },
  {
   "cell_type": "code",
   "execution_count": null,
   "metadata": {
    "collapsed": true
   },
   "outputs": [],
   "source": [
    "from sklearn.feature_extraction.text import HashingVectorizer\n",
    "from sklearn.linear_model import SGDClassifier\n",
    "from sklearn.metrics import confusion_matrix"
   ]
  },
  {
   "cell_type": "code",
   "execution_count": null,
   "metadata": {
    "collapsed": true
   },
   "outputs": [],
   "source": [
    "vect = HashingVectorizer(decode_error='ignore',\n",
    "                        n_features=2**21,\n",
    "                        preprocessor=None,\n",
    "                        tokenizer=tokenizer_porter)"
   ]
  },
  {
   "cell_type": "code",
   "execution_count": null,
   "metadata": {
    "collapsed": true
   },
   "outputs": [],
   "source": [
    "clf = SGDClassifier(loss='log', random_state=1, n_iter=1)"
   ]
  },
  {
   "cell_type": "code",
   "execution_count": null,
   "metadata": {
    "collapsed": false
   },
   "outputs": [],
   "source": [
    "doc_stream = stream_docs(path='./train_dataOA7.19.16.csv')"
   ]
  },
  {
   "cell_type": "code",
   "execution_count": null,
   "metadata": {
    "collapsed": true
   },
   "outputs": [],
   "source": [
    "import pyprind"
   ]
  },
  {
   "cell_type": "code",
   "execution_count": null,
   "metadata": {
    "collapsed": false
   },
   "outputs": [],
   "source": [
    "pbar = pyprind.ProgBar(1)\n",
    "classes = np.array([0,1])"
   ]
  },
  {
   "cell_type": "code",
   "execution_count": null,
   "metadata": {
    "collapsed": false
   },
   "outputs": [],
   "source": [
    "for _ in range (1):\n",
    "    x_train, y_train = get_minibatch(doc_stream, size=170)\n",
    "    if not x_train:\n",
    "        break\n",
    "    x_train = vect.transform(x_train)\n",
    "    clf.partial_fit(x_train, y_train, classes=classes)\n",
    "    pbar.update()"
   ]
  },
  {
   "cell_type": "code",
   "execution_count": null,
   "metadata": {
    "collapsed": false
   },
   "outputs": [],
   "source": [
    "len(y_train)"
   ]
  },
  {
   "cell_type": "code",
   "execution_count": null,
   "metadata": {
    "collapsed": true
   },
   "outputs": [],
   "source": [
    "x_test, y_test = get_minibatch(doc_stream, size=40)"
   ]
  },
  {
   "cell_type": "code",
   "execution_count": null,
   "metadata": {
    "collapsed": false
   },
   "outputs": [],
   "source": [
    "len(y_test)"
   ]
  },
  {
   "cell_type": "code",
   "execution_count": null,
   "metadata": {
    "collapsed": false
   },
   "outputs": [],
   "source": [
    "x_test = vect.transform(x_test)"
   ]
  },
  {
   "cell_type": "code",
   "execution_count": null,
   "metadata": {
    "collapsed": true
   },
   "outputs": [],
   "source": [
    "pred = clf.predict(x_test)"
   ]
  },
  {
   "cell_type": "code",
   "execution_count": null,
   "metadata": {
    "collapsed": false
   },
   "outputs": [],
   "source": [
    "print('Accuracy: %.3f' % clf.score(x_test, y_test))"
   ]
  },
  {
   "cell_type": "code",
   "execution_count": null,
   "metadata": {
    "collapsed": false
   },
   "outputs": [],
   "source": [
    "benchmark(clf, x_test, y_test)"
   ]
  },
  {
   "cell_type": "code",
   "execution_count": null,
   "metadata": {
    "collapsed": false
   },
   "outputs": [],
   "source": [
    "plot_confusion_matrix(clf, x_test, y_test)"
   ]
  },
  {
   "cell_type": "code",
   "execution_count": null,
   "metadata": {
    "collapsed": true
   },
   "outputs": [],
   "source": [
    "clf = clf.partial_fit(x_test, y_test)"
   ]
  },
  {
   "cell_type": "markdown",
   "metadata": {},
   "source": [
    "## Serializing fitted scikit-learn estimators using pickle"
   ]
  },
  {
   "cell_type": "code",
   "execution_count": null,
   "metadata": {
    "collapsed": true
   },
   "outputs": [],
   "source": [
    "import pickle\n",
    "import os"
   ]
  },
  {
   "cell_type": "code",
   "execution_count": null,
   "metadata": {
    "collapsed": true
   },
   "outputs": [],
   "source": [
    "dest = os.path.join('reportclassifier', 'pkl_objects')"
   ]
  },
  {
   "cell_type": "code",
   "execution_count": null,
   "metadata": {
    "collapsed": true
   },
   "outputs": [],
   "source": [
    "if not os.path.exists(dest):\n",
    "    os.makedirs(dest)"
   ]
  },
  {
   "cell_type": "code",
   "execution_count": null,
   "metadata": {
    "collapsed": false
   },
   "outputs": [],
   "source": [
    "pickle.dump(stop, open(os.path.join(dest, 'stopwords.pkl'), 'wb'),\n",
    "           protocol=2)"
   ]
  },
  {
   "cell_type": "code",
   "execution_count": null,
   "metadata": {
    "collapsed": true
   },
   "outputs": [],
   "source": [
    "pickle.dump(clf,\n",
    "           open(os.path.join(dest, 'classifier.pkl'), 'wb'),\n",
    "           protocol=2)"
   ]
  }
 ],
 "metadata": {
  "anaconda-cloud": {},
  "kernelspec": {
   "display_name": "Python [default]",
   "language": "python",
   "name": "python2"
  },
  "language_info": {
   "codemirror_mode": {
    "name": "ipython",
    "version": 2
   },
   "file_extension": ".py",
   "mimetype": "text/x-python",
   "name": "python",
   "nbconvert_exporter": "python",
   "pygments_lexer": "ipython2",
   "version": "2.7.12"
  }
 },
 "nbformat": 4,
 "nbformat_minor": 0
}
